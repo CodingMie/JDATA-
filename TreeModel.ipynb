{
 "cells": [
  {
   "cell_type": "code",
   "execution_count": 1,
   "metadata": {},
   "outputs": [],
   "source": [
    "import pandas as pd\n",
    "import numpy as np\n",
    "import lightgbm as lgb\n",
    "from sklearn import metrics\n",
    "import matplotlib.pyplot as plt\n",
    "import seaborn as sns"
   ]
  },
  {
   "cell_type": "code",
   "execution_count": 113,
   "metadata": {},
   "outputs": [],
   "source": [
    "train = pd.read_csv('../data/baseline_train_featureV1.csv')\n",
    "test = pd.read_csv('../data/baseline_test_featureV1.csv')"
   ]
  },
  {
   "cell_type": "code",
   "execution_count": 114,
   "metadata": {},
   "outputs": [],
   "source": [
    "dtrain = lgb.Dataset(train.drop(['uid','label'],axis=1),label=train.label)\n",
    "dtest = lgb.Dataset(test.drop(['uid'],axis=1))"
   ]
  },
  {
   "cell_type": "code",
   "execution_count": 115,
   "metadata": {},
   "outputs": [],
   "source": [
    "uid_test_b = pd.read_csv('../data/uid_test_b.txt')"
   ]
  },
  {
   "cell_type": "code",
   "execution_count": 116,
   "metadata": {},
   "outputs": [],
   "source": [
    "lgb_params =  {\n",
    "    'boosting_type': 'gbdt',\n",
    "    'objective': 'binary',\n",
    "#    'metric': ('multi_logloss', 'multi_error'),\n",
    "    #'metric_freq': 100,\n",
    "    'is_training_metric': False,\n",
    "    'min_data_in_leaf': 12,\n",
    "    'num_leaves': 64,\n",
    "    'learning_rate': 0.08,\n",
    "    'feature_fraction': 0.8,\n",
    "    'bagging_fraction': 0.8,\n",
    "    'verbosity':-1,\n",
    "#    'gpu_device_id':2,\n",
    "#    'device':'gpu'\n",
    "#    'lambda_l1': 0.001,\n",
    "#    'skip_drop': 0.95,\n",
    "#    'max_drop' : 10\n",
    "    #'lambda_l2': 0.005\n",
    "    #'num_threads': 18\n",
    "}    "
   ]
  },
  {
   "cell_type": "code",
   "execution_count": 117,
   "metadata": {},
   "outputs": [],
   "source": [
    "def evalMetric(preds,dtrain):\n",
    "    \n",
    "    label = dtrain.get_label()\n",
    "    \n",
    "    \n",
    "    pre = pd.DataFrame({'preds':preds,'label':label})\n",
    "    pre= pre.sort_values(by='preds',ascending=False)\n",
    "    \n",
    "    auc = metrics.roc_auc_score(pre.label,pre.preds)\n",
    "\n",
    "    pre.preds=pre.preds.map(lambda x: 1 if x>=0.5 else 0)\n",
    "\n",
    "    f1 = metrics.f1_score(pre.label,pre.preds)\n",
    "    \n",
    "    \n",
    "    res = 0.6*auc +0.4*f1\n",
    "    \n",
    "    return 'res',res,True\n",
    "    \n",
    "\n",
    "    "
   ]
  },
  {
   "cell_type": "markdown",
   "metadata": {},
   "source": [
    "### 本地CV"
   ]
  },
  {
   "cell_type": "code",
   "execution_count": 118,
   "metadata": {},
   "outputs": [
    {
     "name": "stdout",
     "output_type": "stream",
     "text": [
      "[5]\tcv_agg's res: 0.744885 + 0.012333\n",
      "[10]\tcv_agg's res: 0.759769 + 0.0067687\n",
      "[15]\tcv_agg's res: 0.766704 + 0.00747624\n",
      "[20]\tcv_agg's res: 0.765361 + 0.00853749\n",
      "[25]\tcv_agg's res: 0.769359 + 0.00709288\n",
      "[30]\tcv_agg's res: 0.771683 + 0.00467434\n",
      "[35]\tcv_agg's res: 0.773135 + 0.00654911\n",
      "[40]\tcv_agg's res: 0.776656 + 0.00423966\n",
      "[45]\tcv_agg's res: 0.778561 + 0.0045154\n",
      "[50]\tcv_agg's res: 0.781046 + 0.00953071\n",
      "[55]\tcv_agg's res: 0.781835 + 0.00738672\n",
      "[60]\tcv_agg's res: 0.780516 + 0.00795074\n",
      "[65]\tcv_agg's res: 0.782884 + 0.00807411\n",
      "[70]\tcv_agg's res: 0.781147 + 0.00859915\n",
      "[75]\tcv_agg's res: 0.780524 + 0.00947809\n",
      "[80]\tcv_agg's res: 0.781529 + 0.00810055\n",
      "[85]\tcv_agg's res: 0.783109 + 0.00795781\n",
      "[90]\tcv_agg's res: 0.782494 + 0.00871028\n",
      "[95]\tcv_agg's res: 0.783634 + 0.0122432\n",
      "[100]\tcv_agg's res: 0.782396 + 0.0124409\n",
      "[105]\tcv_agg's res: 0.782033 + 0.0114194\n",
      "[110]\tcv_agg's res: 0.781797 + 0.0109774\n",
      "[115]\tcv_agg's res: 0.780908 + 0.00806153\n",
      "[120]\tcv_agg's res: 0.781195 + 0.00939188\n",
      "[125]\tcv_agg's res: 0.781935 + 0.0125126\n",
      "[130]\tcv_agg's res: 0.78315 + 0.0130708\n",
      "[135]\tcv_agg's res: 0.784153 + 0.0135355\n",
      "[140]\tcv_agg's res: 0.780869 + 0.0132798\n",
      "[145]\tcv_agg's res: 0.782051 + 0.0140362\n",
      "[150]\tcv_agg's res: 0.780851 + 0.012231\n",
      "[155]\tcv_agg's res: 0.779955 + 0.0114003\n",
      "[160]\tcv_agg's res: 0.779232 + 0.00927291\n"
     ]
    },
    {
     "data": {
      "text/plain": [
       "{'res-mean': [0.6742108586301144,\n",
       "  0.700658708839477,\n",
       "  0.7384679980472889,\n",
       "  0.7329797422962391,\n",
       "  0.7448845511724874,\n",
       "  0.7445184631328122,\n",
       "  0.7559760649156368,\n",
       "  0.7599102698380867,\n",
       "  0.7614301966532766,\n",
       "  0.7597686994539211,\n",
       "  0.7602087166430712,\n",
       "  0.7640452018587104,\n",
       "  0.7634999210587378,\n",
       "  0.7649816078447286,\n",
       "  0.7667035746110799,\n",
       "  0.7691029214136504,\n",
       "  0.769836046639452,\n",
       "  0.7658998657006482,\n",
       "  0.7657510396176505,\n",
       "  0.76536078214668,\n",
       "  0.7655030393865353,\n",
       "  0.7658191102750095,\n",
       "  0.7697585100128178,\n",
       "  0.7688008585933379,\n",
       "  0.7693589662342312,\n",
       "  0.7697896650082541,\n",
       "  0.7668672334825849,\n",
       "  0.7683482678543093,\n",
       "  0.7705991425428594,\n",
       "  0.7716832149356323,\n",
       "  0.7719610391768884,\n",
       "  0.7677380304585016,\n",
       "  0.7709726532267119,\n",
       "  0.7721884676827081,\n",
       "  0.7731354185395397,\n",
       "  0.7743260207646466,\n",
       "  0.7745480745101481,\n",
       "  0.7759498424779406,\n",
       "  0.7757026888819979,\n",
       "  0.7766558009713028,\n",
       "  0.7772583748517862,\n",
       "  0.777509759134801,\n",
       "  0.7783554879298796,\n",
       "  0.7775503267082601,\n",
       "  0.7785611461882255,\n",
       "  0.7797836664850073,\n",
       "  0.779856908689411,\n",
       "  0.7797853807540093,\n",
       "  0.7817896327802748,\n",
       "  0.78104606530546,\n",
       "  0.7830267183794549,\n",
       "  0.7812197477402686,\n",
       "  0.7814614341259539,\n",
       "  0.7809620775865932,\n",
       "  0.781835267481112,\n",
       "  0.7812663688703273,\n",
       "  0.7807936799260653,\n",
       "  0.7815092296163583,\n",
       "  0.7799219068377767,\n",
       "  0.7805160354199882,\n",
       "  0.7830378064005691,\n",
       "  0.7835264327821644,\n",
       "  0.7831749035106131,\n",
       "  0.7853483677106065],\n",
       " 'res-stdv': [0.01706167057188857,\n",
       "  0.023926681902126178,\n",
       "  0.00875167256650585,\n",
       "  0.01300785600696386,\n",
       "  0.012332958382656392,\n",
       "  0.007421362819906431,\n",
       "  0.004283298195041138,\n",
       "  0.007965055264104274,\n",
       "  0.009000380652370625,\n",
       "  0.0067686965058047395,\n",
       "  0.007539000154028187,\n",
       "  0.007525585721769544,\n",
       "  0.012741777974541684,\n",
       "  0.010696996603720938,\n",
       "  0.0074762387737373715,\n",
       "  0.00884146316911529,\n",
       "  0.008894615600255213,\n",
       "  0.009877781675744414,\n",
       "  0.006101577831599286,\n",
       "  0.00853748591465269,\n",
       "  0.008706666079343303,\n",
       "  0.008080185699448069,\n",
       "  0.00476368638626273,\n",
       "  0.010126126379922227,\n",
       "  0.007092882162144509,\n",
       "  0.006831859510248541,\n",
       "  0.006284858746708385,\n",
       "  0.006365066660940216,\n",
       "  0.005345426966182021,\n",
       "  0.004674337496578236,\n",
       "  0.0067766637131613855,\n",
       "  0.009514193908251655,\n",
       "  0.006241059776955958,\n",
       "  0.005730820980826138,\n",
       "  0.00654910593311171,\n",
       "  0.0052363999933396944,\n",
       "  0.00597298654532022,\n",
       "  0.004211661658437261,\n",
       "  0.0065182105392487845,\n",
       "  0.004239663519603114,\n",
       "  0.004268806611665527,\n",
       "  0.003800596440654522,\n",
       "  0.004783337486284473,\n",
       "  0.006304465180804887,\n",
       "  0.004515402166218147,\n",
       "  0.0063519604224344444,\n",
       "  0.005998990297042215,\n",
       "  0.007229984982006779,\n",
       "  0.006767341628772555,\n",
       "  0.00953070933170787,\n",
       "  0.008417107302921117,\n",
       "  0.009015725075144141,\n",
       "  0.009312607877393596,\n",
       "  0.007121488524017108,\n",
       "  0.007386715521266514,\n",
       "  0.007293972336355123,\n",
       "  0.007252970277831146,\n",
       "  0.007614649455295033,\n",
       "  0.008994671506556232,\n",
       "  0.007950740793666537,\n",
       "  0.006755723401435469,\n",
       "  0.009052025527579966,\n",
       "  0.009155682494846926,\n",
       "  0.00993089165065821]}"
      ]
     },
     "execution_count": 118,
     "metadata": {},
     "output_type": "execute_result"
    }
   ],
   "source": [
    "lgb.cv(lgb_params,dtrain,feval=evalMetric,early_stopping_rounds=100,verbose_eval=5,num_boost_round=10000,nfold=3,metrics=['evalMetric'])"
   ]
  },
  {
   "cell_type": "markdown",
   "metadata": {},
   "source": [
    "## 训练"
   ]
  },
  {
   "cell_type": "code",
   "execution_count": 8,
   "metadata": {
    "scrolled": true
   },
   "outputs": [
    {
     "name": "stdout",
     "output_type": "stream",
     "text": [
      "[5]\ttraining's res: 0.889311\n",
      "[10]\ttraining's res: 0.911326\n",
      "[15]\ttraining's res: 0.926073\n",
      "[20]\ttraining's res: 0.939491\n",
      "[25]\ttraining's res: 0.952701\n",
      "[30]\ttraining's res: 0.963059\n",
      "[35]\ttraining's res: 0.974133\n",
      "[40]\ttraining's res: 0.981368\n",
      "[45]\ttraining's res: 0.986526\n",
      "[50]\ttraining's res: 0.991306\n",
      "[55]\ttraining's res: 0.995715\n",
      "[60]\ttraining's res: 0.997539\n",
      "[65]\ttraining's res: 0.998886\n",
      "[70]\ttraining's res: 0.999778\n",
      "[75]\ttraining's res: 1\n",
      "[80]\ttraining's res: 1\n",
      "[85]\ttraining's res: 1\n",
      "[90]\ttraining's res: 1\n",
      "[95]\ttraining's res: 1\n",
      "[100]\ttraining's res: 1\n",
      "[105]\ttraining's res: 1\n",
      "[110]\ttraining's res: 1\n",
      "[115]\ttraining's res: 1\n",
      "[120]\ttraining's res: 1\n",
      "[125]\ttraining's res: 1\n",
      "[130]\ttraining's res: 1\n",
      "[135]\ttraining's res: 1\n",
      "[140]\ttraining's res: 1\n",
      "[145]\ttraining's res: 1\n",
      "[150]\ttraining's res: 1\n",
      "[155]\ttraining's res: 1\n",
      "[160]\ttraining's res: 1\n",
      "[165]\ttraining's res: 1\n",
      "[170]\ttraining's res: 1\n",
      "[175]\ttraining's res: 1\n",
      "[180]\ttraining's res: 1\n",
      "[185]\ttraining's res: 1\n",
      "[190]\ttraining's res: 1\n",
      "[195]\ttraining's res: 1\n",
      "[200]\ttraining's res: 1\n",
      "[205]\ttraining's res: 1\n",
      "[210]\ttraining's res: 1\n",
      "[215]\ttraining's res: 1\n",
      "[220]\ttraining's res: 1\n",
      "[225]\ttraining's res: 1\n",
      "[230]\ttraining's res: 1\n",
      "[235]\ttraining's res: 1\n",
      "[240]\ttraining's res: 1\n",
      "[245]\ttraining's res: 1\n",
      "[250]\ttraining's res: 1\n",
      "[255]\ttraining's res: 1\n",
      "[260]\ttraining's res: 1\n",
      "[265]\ttraining's res: 1\n",
      "[270]\ttraining's res: 1\n",
      "[275]\ttraining's res: 1\n",
      "[280]\ttraining's res: 1\n",
      "[285]\ttraining's res: 1\n",
      "[290]\ttraining's res: 1\n",
      "[295]\ttraining's res: 1\n",
      "[300]\ttraining's res: 1\n"
     ]
    }
   ],
   "source": [
    "model =lgb.train(lgb_params,dtrain,feval=evalMetric,verbose_eval=5,num_boost_round=300,valid_sets=[dtrain])"
   ]
  },
  {
   "cell_type": "markdown",
   "metadata": {},
   "source": [
    "### 预测"
   ]
  },
  {
   "cell_type": "code",
   "execution_count": 9,
   "metadata": {},
   "outputs": [],
   "source": [
    "pred=model.predict(test.drop(['uid'],axis=1))"
   ]
  },
  {
   "cell_type": "code",
   "execution_count": 10,
   "metadata": {},
   "outputs": [],
   "source": [
    "res =pd.DataFrame({'uid':test.uid,'label':pred})\n"
   ]
  },
  {
   "cell_type": "code",
   "execution_count": 11,
   "metadata": {},
   "outputs": [],
   "source": [
    "res_b = pd.merge(uid_test_b, res, how='left',on='uid')\n",
    "res_b=res_b.sort_values(by='label',ascending=False).reset_index()"
   ]
  },
  {
   "cell_type": "code",
   "execution_count": 12,
   "metadata": {},
   "outputs": [],
   "source": [
    "a = []\n",
    "for i in range(3000):\n",
    "    a.append(0)\n",
    "for i in range(int(3000*900/4999)):\n",
    "    a[i] = 1\n",
    "res_label = pd.DataFrame(a)"
   ]
  },
  {
   "cell_type": "code",
   "execution_count": 13,
   "metadata": {},
   "outputs": [],
   "source": [
    "res_b['label'] = res_label"
   ]
  },
  {
   "cell_type": "code",
   "execution_count": 14,
   "metadata": {},
   "outputs": [],
   "source": [
    "res_b = res_b.drop('index', axis=1)"
   ]
  },
  {
   "cell_type": "code",
   "execution_count": 15,
   "metadata": {},
   "outputs": [],
   "source": [
    "res_b.to_csv('lgb-baseline-fusai-0602.csv',index=False,header=False,sep=',',columns=['uid','label'])"
   ]
  },
  {
   "cell_type": "code",
   "execution_count": null,
   "metadata": {
    "collapsed": true
   },
   "outputs": [],
   "source": []
  }
 ],
 "metadata": {
  "kernelspec": {
   "display_name": "Python 3",
   "language": "python",
   "name": "python3"
  },
  "language_info": {
   "codemirror_mode": {
    "name": "ipython",
    "version": 3
   },
   "file_extension": ".py",
   "mimetype": "text/x-python",
   "name": "python",
   "nbconvert_exporter": "python",
   "pygments_lexer": "ipython3",
   "version": "3.5.0"
  }
 },
 "nbformat": 4,
 "nbformat_minor": 2
}
